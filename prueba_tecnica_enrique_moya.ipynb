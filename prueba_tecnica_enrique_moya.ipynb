{
 "cells": [
  {
   "cell_type": "code",
   "execution_count": 1,
   "metadata": {},
   "outputs": [
    {
     "name": "stderr",
     "output_type": "stream",
     "text": [
      "[nltk_data] Downloading package stopwords to\n",
      "[nltk_data]     C:\\Users\\enrique\\AppData\\Roaming\\nltk_data...\n",
      "[nltk_data]   Package stopwords is already up-to-date!\n"
     ]
    },
    {
     "data": {
      "text/plain": [
       "True"
      ]
     },
     "execution_count": 1,
     "metadata": {},
     "output_type": "execute_result"
    }
   ],
   "source": [
    "import pickle\n",
    "import snscrape.modules.twitter as twitter\n",
    "import pandas as pd\n",
    "import pymysql\n",
    "import os\n",
    "from dotenv import load_dotenv\n",
    "load_dotenv()\n",
    "import re\n",
    "import emoji\n",
    "from googletrans import Translator\n",
    "import nltk\n",
    "from nltk.corpus import stopwords\n",
    "from nltk.stem.snowball import SnowballStemmer\n",
    "from collections import Counter\n",
    "import seaborn as sns\n",
    "import matplotlib.pyplot as plt\n",
    "\n",
    "nltk.download('stopwords')"
   ]
  },
  {
   "attachments": {},
   "cell_type": "markdown",
   "metadata": {},
   "source": [
    "# Model"
   ]
  },
  {
   "attachments": {},
   "cell_type": "markdown",
   "metadata": {},
   "source": [
    "### Compatible Sklearn version"
   ]
  },
  {
   "cell_type": "code",
   "execution_count": 2,
   "metadata": {},
   "outputs": [
    {
     "name": "stdout",
     "output_type": "stream",
     "text": [
      "1.0.2\n"
     ]
    }
   ],
   "source": [
    "# !pip install scikit-learn==1.0.2 --user\n",
    "import sklearn\n",
    "print(sklearn.__version__)"
   ]
  },
  {
   "attachments": {},
   "cell_type": "markdown",
   "metadata": {},
   "source": [
    "### Load Model"
   ]
  },
  {
   "cell_type": "code",
   "execution_count": 3,
   "metadata": {},
   "outputs": [
    {
     "name": "stdout",
     "output_type": "stream",
     "text": [
      "{'vect': CountVectorizer(max_df=0.5, max_features=1000, min_df=5, ngram_range=(1, 2)), 'cls': LogisticRegression(C=0.5)}\n"
     ]
    }
   ],
   "source": [
    "with open('model/sentiment_model', 'rb') as f:\n",
    "    pipeline = pickle.load(f)\n",
    "\n",
    "print(pipeline.named_steps)"
   ]
  },
  {
   "cell_type": "code",
   "execution_count": 4,
   "metadata": {},
   "outputs": [
    {
     "name": "stdout",
     "output_type": "stream",
     "text": [
      "vect: \n"
     ]
    },
    {
     "data": {
      "text/plain": [
       "{'analyzer': 'word',\n",
       " 'binary': False,\n",
       " 'decode_error': 'strict',\n",
       " 'dtype': numpy.int64,\n",
       " 'encoding': 'utf-8',\n",
       " 'input': 'content',\n",
       " 'lowercase': True,\n",
       " 'max_df': 0.5,\n",
       " 'max_features': 1000,\n",
       " 'min_df': 5,\n",
       " 'ngram_range': (1, 2),\n",
       " 'preprocessor': None,\n",
       " 'stop_words': None,\n",
       " 'strip_accents': None,\n",
       " 'token_pattern': '(?u)\\\\b\\\\w\\\\w+\\\\b',\n",
       " 'tokenizer': None,\n",
       " 'vocabulary': None}"
      ]
     },
     "execution_count": 4,
     "metadata": {},
     "output_type": "execute_result"
    }
   ],
   "source": [
    "print('vect: ')\n",
    "pipeline.named_steps['vect'].get_params()"
   ]
  },
  {
   "cell_type": "code",
   "execution_count": 5,
   "metadata": {},
   "outputs": [
    {
     "name": "stdout",
     "output_type": "stream",
     "text": [
      "cls: \n"
     ]
    },
    {
     "data": {
      "text/plain": [
       "{'C': 0.5,\n",
       " 'class_weight': None,\n",
       " 'dual': False,\n",
       " 'fit_intercept': True,\n",
       " 'intercept_scaling': 1,\n",
       " 'l1_ratio': None,\n",
       " 'max_iter': 100,\n",
       " 'multi_class': 'auto',\n",
       " 'n_jobs': None,\n",
       " 'penalty': 'l2',\n",
       " 'random_state': None,\n",
       " 'solver': 'lbfgs',\n",
       " 'tol': 0.0001,\n",
       " 'verbose': 0,\n",
       " 'warm_start': False}"
      ]
     },
     "execution_count": 5,
     "metadata": {},
     "output_type": "execute_result"
    }
   ],
   "source": [
    "print('cls: ')\n",
    "pipeline.named_steps['cls'].get_params()"
   ]
  },
  {
   "cell_type": "code",
   "execution_count": 6,
   "metadata": {},
   "outputs": [
    {
     "data": {
      "text/plain": [
       "{'graci': 439,\n",
       " 'mar': 578,\n",
       " 'pens': 700,\n",
       " 'va': 947,\n",
       " 'van': 953,\n",
       " 'intent': 500,\n",
       " 'sac': 831,\n",
       " 'algui': 44,\n",
       " 'ja': 512,\n",
       " 'suen': 887,\n",
       " 'ja ja': 513,\n",
       " 'toc': 921,\n",
       " 'dl': 298,\n",
       " 'especial': 360,\n",
       " 'buen': 118,\n",
       " 'dia': 275,\n",
       " 'primer': 751,\n",
       " 'mand': 573,\n",
       " 'abraz': 7,\n",
       " 'grand': 443,\n",
       " 'miguel': 607,\n",
       " 'famili': 384,\n",
       " 'hoy': 469,\n",
       " 'podr': 722,\n",
       " 'ser': 856,\n",
       " 'human': 473,\n",
       " 'buen dia': 119,\n",
       " 'list': 552,\n",
       " 'empez': 328,\n",
       " 'congres': 197,\n",
       " 'link': 549,\n",
       " 'bdi': 104,\n",
       " 'em': 325,\n",
       " 'si': 866,\n",
       " 'llev': 556,\n",
       " 'lueg': 561,\n",
       " 'orbyt': 674,\n",
       " 'moment': 621,\n",
       " 'dig': 284,\n",
       " 'sistem': 876,\n",
       " 'econom': 307,\n",
       " 'recort': 798,\n",
       " 'diner': 286,\n",
       " 'social': 878,\n",
       " 'medi': 592,\n",
       " 'eur': 369,\n",
       " 'banc': 100,\n",
       " 'necesit': 645,\n",
       " 'ajust': 36,\n",
       " 'viern': 981,\n",
       " 'rat': 785,\n",
       " 'amig': 50,\n",
       " 'univers': 943,\n",
       " 'call': 130,\n",
       " 'ayud': 94,\n",
       " 'zapater': 997,\n",
       " 'quier': 780,\n",
       " 'algun': 45,\n",
       " 'ultim': 939,\n",
       " 'consej': 202,\n",
       " 'ministr': 615,\n",
       " 'consej ministr': 203,\n",
       " 'denunci': 263,\n",
       " 'respons': 813,\n",
       " 'ere': 352,\n",
       " 'cuatr': 231,\n",
       " 'carg': 142,\n",
       " 'emple': 330,\n",
       " 'retir': 816,\n",
       " 'march': 581,\n",
       " 'pp': 732,\n",
       " 'cca': 154,\n",
       " 'deb': 244,\n",
       " 'dic': 279,\n",
       " 'conoc': 200,\n",
       " 'cuent': 232,\n",
       " 'aument': 86,\n",
       " 'par': 684,\n",
       " 'segur': 850,\n",
       " 'accident': 12,\n",
       " 'años': 98,\n",
       " 'her': 459,\n",
       " 'men': 595,\n",
       " 'via': 970,\n",
       " 'premi': 739,\n",
       " 'ff': 393,\n",
       " 'hac': 454,\n",
       " 'volv': 987,\n",
       " 'tan': 898,\n",
       " 'victori': 976,\n",
       " 'trabaj': 928,\n",
       " 'sindicat': 874,\n",
       " 'huelg': 471,\n",
       " 'aeropuert': 28,\n",
       " 'compromet': 190,\n",
       " 'sevillahoy': 861,\n",
       " 'gran': 442,\n",
       " 'inici': 493,\n",
       " 'record': 797,\n",
       " 'import': 481,\n",
       " 'terc': 910,\n",
       " 'central': 159,\n",
       " 'dar': 240,\n",
       " 'tiemp': 914,\n",
       " 'pid': 711,\n",
       " 'esfuerz': 356,\n",
       " 'gobiern': 434,\n",
       " 'negoci': 646,\n",
       " 'eta': 368,\n",
       " 'dos': 304,\n",
       " 'aprob': 68,\n",
       " 'ley': 544,\n",
       " 'much': 626,\n",
       " 'anim': 59,\n",
       " 'esper': 362,\n",
       " 'pod': 721,\n",
       " 'cop': 216,\n",
       " 'suert': 888,\n",
       " 'blanc': 110,\n",
       " 'portavoz': 728,\n",
       " 'funcion': 416,\n",
       " 'form': 406,\n",
       " 'sab': 830,\n",
       " 'habl': 453,\n",
       " 'ciert': 169,\n",
       " 'españ': 357,\n",
       " 'sig': 872,\n",
       " 'crec': 225,\n",
       " 'madr': 565,\n",
       " 'mejor': 594,\n",
       " 'vuelt': 992,\n",
       " 'met': 603,\n",
       " 'anunci': 63,\n",
       " 'pon': 725,\n",
       " 'encant': 333,\n",
       " 'ver': 963,\n",
       " 'aqui': 72,\n",
       " 'valenci': 949,\n",
       " 'recom': 794,\n",
       " 'juez': 527,\n",
       " 'imput': 485,\n",
       " 'direct': 291,\n",
       " 'ciud': 175,\n",
       " 'cas': 148,\n",
       " 'urdangarin': 945,\n",
       " 'parec': 685,\n",
       " 'baj': 99,\n",
       " 'nivel': 649,\n",
       " 'marz': 585,\n",
       " 'reconoc': 796,\n",
       " 'da': 238,\n",
       " 'dat': 241,\n",
       " 'objet': 660,\n",
       " 'telediarioint': 906,\n",
       " 'corazon': 217,\n",
       " 'enfrent': 338,\n",
       " 'transparent': 929,\n",
       " 'internacional': 504,\n",
       " 'rt': 825,\n",
       " 'regal': 807,\n",
       " 'cont': 208,\n",
       " 'cont link': 209,\n",
       " 'crisis': 226,\n",
       " 'español': 359,\n",
       " 'encim': 334,\n",
       " 'servici': 858,\n",
       " 'voy': 990,\n",
       " 'apoy': 67,\n",
       " 'supuest': 894,\n",
       " 'cospedal': 222,\n",
       " 'ped': 693,\n",
       " 'perdon': 705,\n",
       " 'utiliz': 946,\n",
       " 'rebaj': 789,\n",
       " 'sueld': 886,\n",
       " 'ahor': 33,\n",
       " 'aplic': 66,\n",
       " 'asi': 79,\n",
       " 'gust': 451,\n",
       " 'pedroj_ramirez': 696,\n",
       " 'orden': 675,\n",
       " 'jef': 517,\n",
       " 'cinc': 172,\n",
       " 'mes': 601,\n",
       " 'iu': 510,\n",
       " 'ello': 323,\n",
       " 'permit': 707,\n",
       " 'gobern': 433,\n",
       " 'bienven': 109,\n",
       " 'problem': 753,\n",
       " 'dej': 257,\n",
       " 'tir': 919,\n",
       " 'despues': 271,\n",
       " 'derech': 264,\n",
       " 'maravill': 579,\n",
       " 'alejandrosanz': 40,\n",
       " 'punt': 776,\n",
       " 'gan': 421,\n",
       " 'nuev': 657,\n",
       " 'felic': 387,\n",
       " 'equip': 350,\n",
       " 'vec': 958,\n",
       " 'casi': 150,\n",
       " 'qued': 777,\n",
       " 'gast': 425,\n",
       " 'ris': 822,\n",
       " 'deten': 273,\n",
       " 'iran': 509,\n",
       " 'maxim': 588,\n",
       " 'deb ser': 245,\n",
       " 'entiend': 344,\n",
       " 'europe': 372,\n",
       " 'pued': 770,\n",
       " 'prest': 745,\n",
       " 'hag': 456,\n",
       " 'europ': 370,\n",
       " 'ver si': 964,\n",
       " 'asegur': 78,\n",
       " 'dias': 278,\n",
       " 'siend': 870,\n",
       " 'buen dias': 120,\n",
       " 'jur': 532,\n",
       " 'result': 815,\n",
       " 'profund': 755,\n",
       " 'cambi': 132,\n",
       " 'vot': 988,\n",
       " 'carreter': 146,\n",
       " 'segund': 849,\n",
       " 'constitu': 206,\n",
       " 'don': 301,\n",
       " 'arranc': 75,\n",
       " 'verd': 966,\n",
       " 'reduc': 803,\n",
       " 'impuest': 484,\n",
       " 'puebl': 769,\n",
       " 'agu': 30,\n",
       " 'fri': 413,\n",
       " 'mañan': 590,\n",
       " 'com': 183,\n",
       " 'descans': 265,\n",
       " 'total': 927,\n",
       " 'noch': 651,\n",
       " 'dificil': 283,\n",
       " 'corr': 218,\n",
       " 'buenafuent': 122,\n",
       " 'control': 213,\n",
       " 'electoral': 320,\n",
       " 'program': 756,\n",
       " 'tant': 899,\n",
       " 'articul': 77,\n",
       " 'consejer': 204,\n",
       " 'salud': 835,\n",
       " 'zon': 998,\n",
       " 'veo': 962,\n",
       " 'fin': 397,\n",
       " 'muj': 633,\n",
       " 'pelicul': 698,\n",
       " 'pas': 690,\n",
       " 'diario_sur': 277,\n",
       " 'civil': 177,\n",
       " 'person': 708,\n",
       " 'dond': 302,\n",
       " 'sol': 880,\n",
       " 'oblig': 661,\n",
       " 'public': 767,\n",
       " 'aunqu': 88,\n",
       " 'bien': 108,\n",
       " 'sient': 871,\n",
       " 'aun': 87,\n",
       " 'salg': 834,\n",
       " 'adel': 24,\n",
       " 'graci amig': 440,\n",
       " 'precios': 737,\n",
       " 'ataqu': 82,\n",
       " 'mir': 617,\n",
       " 'jej': 518,\n",
       " 'hech': 458,\n",
       " 'vam': 952,\n",
       " 'logr': 558,\n",
       " 'cuant': 230,\n",
       " 'maestr': 567,\n",
       " 'comun': 192,\n",
       " 'llen': 555,\n",
       " 'oficial': 664,\n",
       " 'mil': 608,\n",
       " 'favorit': 386,\n",
       " 'graci rt': 441,\n",
       " 'javierarenas_pp': 516,\n",
       " 'critic': 228,\n",
       " 'pepegrin': 702,\n",
       " 'marianorajoy': 582,\n",
       " 'reunion': 818,\n",
       " 'nieg': 647,\n",
       " 'alcald': 38,\n",
       " 'auster': 89,\n",
       " 'mat': 587,\n",
       " 'el_pais': 315,\n",
       " 'link via': 551,\n",
       " 'via el_pais': 972,\n",
       " 'sguein': 865,\n",
       " 'quien': 779,\n",
       " 'pso': 766,\n",
       " 'respuest': 814,\n",
       " 'blog': 111,\n",
       " 'libr': 546,\n",
       " 'cultur': 235,\n",
       " 'rajoy': 784,\n",
       " 'vuelv': 993,\n",
       " 'ten': 909,\n",
       " 'polit': 724,\n",
       " 'respond': 812,\n",
       " 'ningun': 648,\n",
       " 'pais': 681,\n",
       " 'mund': 635,\n",
       " 'practic': 735,\n",
       " 'declar': 250,\n",
       " 'pregunt': 738,\n",
       " 'falt': 383,\n",
       " 'tierr': 915,\n",
       " 'final': 398,\n",
       " 'palm': 683,\n",
       " 'raf': 783,\n",
       " 'chic': 166,\n",
       " 'nadal': 640,\n",
       " 'tod': 922,\n",
       " 'man': 572,\n",
       " 'campeon': 135,\n",
       " 'line': 548,\n",
       " 'mas': 586,\n",
       " 'ole': 667,\n",
       " 'rey': 819,\n",
       " 'hoy dia': 470,\n",
       " 'edurnity': 310,\n",
       " 'cart': 147,\n",
       " 'tal': 896,\n",
       " 'seri': 857,\n",
       " 'viaj': 974,\n",
       " 'embaj': 326,\n",
       " 'catalan': 152,\n",
       " 'abces': 4,\n",
       " 'abc_es': 3,\n",
       " 'via abc_es': 971,\n",
       " 'argentin': 74,\n",
       " 'cant': 140,\n",
       " 'cre': 224,\n",
       " 'puest': 775,\n",
       " 'aqu': 70,\n",
       " 'lleg': 554,\n",
       " 'gent': 429,\n",
       " 'dorm': 303,\n",
       " 'feliz': 390,\n",
       " 'impresion': 483,\n",
       " 'part': 688,\n",
       " 'ejempl': 313,\n",
       " 'ilusion': 480,\n",
       " 'super': 892,\n",
       " 'fot': 407,\n",
       " 'semanaldigital': 852,\n",
       " 'port': 727,\n",
       " 'dentr': 262,\n",
       " 'pag': 680,\n",
       " 'quer': 778,\n",
       " 'orgull': 677,\n",
       " 'juici': 529,\n",
       " 'explic': 379,\n",
       " 'mientr': 606,\n",
       " 'millon': 611,\n",
       " 'president': 744,\n",
       " 'autonom': 90,\n",
       " 'cumpl': 236,\n",
       " 'acerc': 14,\n",
       " 'socied': 879,\n",
       " 'chin': 167,\n",
       " 'prepar': 742,\n",
       " 'upyd': 944,\n",
       " 'amaiur': 48,\n",
       " 'justici': 534,\n",
       " 'grup': 449,\n",
       " 'año': 97,\n",
       " 'tras': 930,\n",
       " 'bonit': 114,\n",
       " 'alfons': 43,\n",
       " 'nadi': 641,\n",
       " 'period': 706,\n",
       " 'encontr': 335,\n",
       " 'perd': 704,\n",
       " 'ppandaluz': 733,\n",
       " 'acept': 13,\n",
       " 'europapress_': 371,\n",
       " 'trat': 931,\n",
       " 'eleg': 321,\n",
       " 'paurubi': 691,\n",
       " 'tonicant': 925,\n",
       " 'vend': 961,\n",
       " 'grab': 438,\n",
       " 'lad': 537,\n",
       " 'error': 353,\n",
       " 'mariviromer': 583,\n",
       " 'entrev': 348,\n",
       " 'sanid': 840,\n",
       " 'presupuest': 746,\n",
       " 'twitt': 937,\n",
       " 'segu': 847,\n",
       " 'busc': 123,\n",
       " 'si quier': 867,\n",
       " 'eleccion': 319,\n",
       " 'propi': 759,\n",
       " 'feliz dia': 391,\n",
       " 'interes': 502,\n",
       " 'muchisim': 628,\n",
       " 'bes': 106,\n",
       " 'med': 591,\n",
       " 'post': 731,\n",
       " 'vez': 969,\n",
       " 'enhorabuen': 340,\n",
       " 'dav': 242,\n",
       " 'larg': 540,\n",
       " 'seman': 851,\n",
       " 'recomend': 795,\n",
       " 'leer': 541,\n",
       " 'descubr': 268,\n",
       " 'bon': 113,\n",
       " 'celebr': 156,\n",
       " 'fiest': 395,\n",
       " 'viv': 985,\n",
       " 'juanraluc': 524,\n",
       " 'barcelon': 101,\n",
       " 'cataluñ': 153,\n",
       " 'extorsion': 380,\n",
       " 'carl': 144,\n",
       " 'larazon_': 539,\n",
       " 'se': 843,\n",
       " 'sorprend': 883,\n",
       " 'present': 743,\n",
       " 'tard': 900,\n",
       " 'sub': 884,\n",
       " 'gratis': 444,\n",
       " 'dad': 239,\n",
       " 'nombr': 653,\n",
       " 'tim': 916,\n",
       " 'acuerd': 22,\n",
       " 'cad': 125,\n",
       " 'cobr': 181,\n",
       " 'prim': 749,\n",
       " 'financ': 399,\n",
       " 'chacon': 164,\n",
       " 'democraci': 261,\n",
       " 'reform': 805,\n",
       " 'garantiz': 423,\n",
       " 'dir': 289,\n",
       " 'zp': 999,\n",
       " 'brusel': 117,\n",
       " 'empiez': 329,\n",
       " 'acto': 20,\n",
       " 'homenaj': 467,\n",
       " 'proxim': 763,\n",
       " 'dese': 269,\n",
       " 'decision': 249,\n",
       " 'gallardon': 420,\n",
       " 'alons': 47,\n",
       " 'recib': 792,\n",
       " 'cariñ': 143,\n",
       " 'vay': 956,\n",
       " 'romp': 823,\n",
       " 'valor': 951,\n",
       " 'tecnic': 904,\n",
       " 'dios': 287,\n",
       " 'real': 787,\n",
       " 'mied': 605,\n",
       " 've': 957,\n",
       " 'impos': 482,\n",
       " 'ahi': 32,\n",
       " 'editorial': 308,\n",
       " 'favor': 385,\n",
       " 'aclar': 16,\n",
       " 'entrad': 345,\n",
       " 'abre': 8,\n",
       " 'prevision': 748,\n",
       " 'visit': 983,\n",
       " 'sid': 868,\n",
       " 'desp': 270,\n",
       " 'cam': 131,\n",
       " 'hol': 465,\n",
       " 'acab': 11,\n",
       " 'ahor si': 34,\n",
       " 'buen noch': 121,\n",
       " 'entend': 342,\n",
       " 'rubalc': 827,\n",
       " 'merkel': 600,\n",
       " 'sarkozy': 842,\n",
       " 'plen': 719,\n",
       " 'lid': 547,\n",
       " 'oposicion': 673,\n",
       " 'posibl': 729,\n",
       " 'inteligent': 498,\n",
       " 'vide': 978,\n",
       " 'minut': 616,\n",
       " 'merec': 599,\n",
       " 'constitucional': 207,\n",
       " 'mal': 569,\n",
       " 'segun': 848,\n",
       " 'compañer': 187,\n",
       " 'analisis': 55,\n",
       " 'plac': 715,\n",
       " 'anotici': 61,\n",
       " 'riesg': 821,\n",
       " 'navid': 643,\n",
       " 'funcionari': 417,\n",
       " 'jug': 528,\n",
       " 'exig': 376,\n",
       " 'empres': 331,\n",
       " 'contrat': 212,\n",
       " 'felip': 389,\n",
       " 'cen': 157,\n",
       " 'top': 926,\n",
       " 'secret': 844,\n",
       " 'andaluc': 56,\n",
       " 'pretend': 747,\n",
       " 'puert': 773,\n",
       " 'ayunt': 95,\n",
       " 'proyect': 764,\n",
       " 'teatr': 903,\n",
       " 'nunc': 659,\n",
       " 'dich': 280,\n",
       " 'juan': 522,\n",
       " 'charl': 165,\n",
       " 'convenc': 214,\n",
       " 'firm': 400,\n",
       " 'llam': 553,\n",
       " 'merc': 598,\n",
       " 'unas': 940,\n",
       " 'cost': 223,\n",
       " 'milit': 609,\n",
       " 'deleg': 258,\n",
       " 'camin': 133,\n",
       " 'termin': 911,\n",
       " 'futbol': 418,\n",
       " 'siempr': 869,\n",
       " 'pel': 697,\n",
       " 'cos': 221,\n",
       " 'unid': 942,\n",
       " 'fond': 404,\n",
       " 'olvid': 668,\n",
       " 'ofrec': 665,\n",
       " 'entrar': 346,\n",
       " 'excelent': 375,\n",
       " 'disc': 293,\n",
       " 'maner': 574,\n",
       " 'increibl': 488,\n",
       " 'laboral': 536,\n",
       " 'sanchez_soni': 838,\n",
       " 'ciudadan': 176,\n",
       " 'salari': 833,\n",
       " 'razon': 786,\n",
       " 'deud': 274,\n",
       " 'indult': 490,\n",
       " 'empresari': 332,\n",
       " 'conden': 194,\n",
       " 'iescol': 477,\n",
       " 'indign': 489,\n",
       " 'mentir': 597,\n",
       " 'mont': 623,\n",
       " 'muer': 629,\n",
       " 'sueñ': 889,\n",
       " 'pront': 758,\n",
       " 'pues': 774,\n",
       " 'ocult': 663,\n",
       " 'rescat': 810,\n",
       " 'conciert': 193,\n",
       " 'centr': 158,\n",
       " 'pact': 678,\n",
       " 'fiscal': 401,\n",
       " 'clav': 180,\n",
       " 'direccion': 290,\n",
       " 'ayer': 93,\n",
       " 'fuert': 414,\n",
       " 'promet': 757,\n",
       " 'mism': 618,\n",
       " 'hiz': 464,\n",
       " 'aznar': 96,\n",
       " 'ue': 938,\n",
       " 'pes': 710,\n",
       " 'sent': 854,\n",
       " 'car': 141,\n",
       " 'vasc': 955,\n",
       " 'exist': 377,\n",
       " 'sum': 891,\n",
       " 'defiend': 256,\n",
       " 'veran': 965,\n",
       " 'izquierd': 511,\n",
       " 'ide': 475,\n",
       " 'cierr': 168,\n",
       " 'consider': 205,\n",
       " 'dur': 306,\n",
       " 'ccifuent': 155,\n",
       " 'sevill': 860,\n",
       " 'besaz': 107,\n",
       " 'rued': 828,\n",
       " 'prens': 740,\n",
       " 'ojal': 666,\n",
       " 'rued prens': 829,\n",
       " 'abandon': 1,\n",
       " 'luis': 562,\n",
       " 'lo': 557,\n",
       " 'timelin': 917,\n",
       " 'dispon': 296,\n",
       " 'histori': 462,\n",
       " 'dispon link': 297,\n",
       " 'link histori': 550,\n",
       " 'histori dia': 463,\n",
       " 'campañ': 134,\n",
       " 'tem': 908,\n",
       " 'vid': 977,\n",
       " 'libert': 545,\n",
       " 'encuentr': 336,\n",
       " 'dec': 247,\n",
       " 'defens': 254,\n",
       " 'jajaj': 514,\n",
       " 'anterior': 62,\n",
       " 'gol': 435,\n",
       " 'tods': 923,\n",
       " 'gonzalez': 437,\n",
       " 'mart': 584,\n",
       " 'diput': 288,\n",
       " 'ir': 508,\n",
       " 'sal': 832,\n",
       " 'solucion': 881,\n",
       " 'madrid': 566,\n",
       " 'tom': 924,\n",
       " 'alegr': 39,\n",
       " 'tel': 905,\n",
       " 'estupend': 367,\n",
       " 'muestr': 631,\n",
       " 'palabr': 682,\n",
       " 'david_bust': 243,\n",
       " 'mayor': 589,\n",
       " 'hab': 452,\n",
       " 'respet': 811,\n",
       " 'personal': 709,\n",
       " 'sin': 873,\n",
       " 'debat': 246,\n",
       " 'necesari': 644,\n",
       " 'red': 801,\n",
       " 'recuper': 800,\n",
       " 'ministeri': 614,\n",
       " 'admir': 27,\n",
       " 'eeuu': 311,\n",
       " 'estudi': 366,\n",
       " 'vari': 954,\n",
       " 'candidat': 139,\n",
       " 'actual': 21,\n",
       " 'recuerd': 799,\n",
       " 'cancion': 138,\n",
       " 'salv': 836,\n",
       " 'cort': 220,\n",
       " 'sen': 853,\n",
       " 'poc': 720,\n",
       " 'gener': 426,\n",
       " 'tribun': 933,\n",
       " 'jos': 520,\n",
       " 'manuel': 577,\n",
       " 'junt': 530,\n",
       " 'nacional': 639,\n",
       " 'comision': 185,\n",
       " 'organiz': 676,\n",
       " 'fras': 410,\n",
       " 'castill': 151,\n",
       " 'cabez': 124,\n",
       " 'propon': 760,\n",
       " 'espectacul': 361,\n",
       " 'juev': 526,\n",
       " 'red social': 802,\n",
       " 'comienz': 184,\n",
       " 'fuerz': 415,\n",
       " 'inform': 491,\n",
       " 'muert': 630,\n",
       " 'elmund': 324,\n",
       " 'via elmund': 973,\n",
       " 'lun': 563,\n",
       " 'abog': 6,\n",
       " 'xq': 995,\n",
       " 'ex': 374,\n",
       " 'estren': 365,\n",
       " 'radi': 782,\n",
       " 'mexic': 604,\n",
       " 'ademas': 25,\n",
       " 'prueb': 765,\n",
       " 'anoch': 60,\n",
       " 'disfrut': 295,\n",
       " 'igual': 478,\n",
       " 'secretari': 845,\n",
       " 'navarr': 642,\n",
       " 'for': 405,\n",
       " 'parlamentari': 687,\n",
       " 'situacion': 877,\n",
       " 'administr': 26,\n",
       " 'asturi': 80,\n",
       " 'mensaj': 596,\n",
       " 'ciu': 174,\n",
       " 'val': 948,\n",
       " 'muev': 632,\n",
       " 'ls': 559,\n",
       " 'har': 457,\n",
       " 'parlament': 686,\n",
       " 'camps': 136,\n",
       " 'reclam': 793,\n",
       " 'enter': 343,\n",
       " 'hor': 468,\n",
       " 'cin': 171,\n",
       " 'unic': 941,\n",
       " 'luch': 560,\n",
       " 'min': 613,\n",
       " 'sector': 846,\n",
       " 'acord': 18,\n",
       " 'relacion': 808,\n",
       " 'tuit': 935,\n",
       " 'levant': 543,\n",
       " 'el': 314,\n",
       " 'engañ': 339,\n",
       " 'carm': 145,\n",
       " 'hombr': 466,\n",
       " 'violenci': 982,\n",
       " 'cerr': 162,\n",
       " 'compr': 189,\n",
       " 'obras': 662,\n",
       " 'malag': 570,\n",
       " 'opinion': 671,\n",
       " 'malag link': 571,\n",
       " 'cualqui': 229,\n",
       " 'bas': 103,\n",
       " 'defend': 253,\n",
       " 'sur': 895,\n",
       " 'cuest': 233,\n",
       " 'version': 967,\n",
       " 'cad vez': 126,\n",
       " 'ros': 824,\n",
       " 'ana': 54,\n",
       " 'vem': 959,\n",
       " 'evit': 373,\n",
       " 'vien': 979,\n",
       " 'vist': 984,\n",
       " 'señor': 864,\n",
       " 'plan': 716,\n",
       " 'cumpleañ': 237,\n",
       " 'alexdelaiglesi': 42,\n",
       " 'pequeñ': 703,\n",
       " 'diferent': 282,\n",
       " 'abiert': 5,\n",
       " 'sangr': 839,\n",
       " 'discurs': 294,\n",
       " 'escuch': 355,\n",
       " 'avis': 92,\n",
       " 'renov': 809,\n",
       " 'much graci': 627,\n",
       " 'just': 533,\n",
       " 'jueg': 525,\n",
       " 'niñ': 650,\n",
       " 'atencion': 83,\n",
       " 'investidur': 506,\n",
       " 'convoc': 215,\n",
       " 'retras': 817,\n",
       " 'jorn': 519,\n",
       " 'asunt': 81,\n",
       " 'padr': 679,\n",
       " 'not': 654,\n",
       " 'entreg': 347,\n",
       " 'victim': 975,\n",
       " 'javi': 515,\n",
       " 'aren': 73,\n",
       " 'pong': 726,\n",
       " 'clar': 178,\n",
       " 'insult': 496,\n",
       " 'amor': 52,\n",
       " 'arte': 76,\n",
       " 'felicit': 388,\n",
       " 'feliz navid': 392,\n",
       " 'deficit': 255,\n",
       " 'ces': 163,\n",
       " 'siri': 875,\n",
       " 'caid': 129,\n",
       " 'iba': 474,\n",
       " 'pen': 699,\n",
       " 'españ link': 358,\n",
       " 'emocion': 327,\n",
       " 'notici': 655,\n",
       " 'pud': 768,\n",
       " 'genial': 428,\n",
       " 'gir': 431,\n",
       " 'hij': 461,\n",
       " 'hic': 460,\n",
       " 'manifest': 575,\n",
       " 'albert_river': 37,\n",
       " 'compart': 186,\n",
       " 'viend': 980,\n",
       " 'posicion': 730,\n",
       " 'ven': 960,\n",
       " 'oper': 670,\n",
       " 'preci': 736,\n",
       " 'propuest': 761,\n",
       " 'investig': 507,\n",
       " 'pierd': 713,\n",
       " 'tip': 918,\n",
       " 'triunf': 934,\n",
       " 'barç': 102,\n",
       " 'pq': 734,\n",
       " 'magnif': 568,\n",
       " 'golp': 436,\n",
       " 'doming': 300,\n",
       " 'demas': 259,\n",
       " 'marc': 580,\n",
       " 'sufr': 890,\n",
       " 'afect': 29,\n",
       " 'futur': 419,\n",
       " 'referent': 804,\n",
       " 'amenaz': 49,\n",
       " 'luz': 564,\n",
       " 'ener': 337,\n",
       " 'ingres': 492,\n",
       " 'eliasbendod': 322,\n",
       " 'leo': 542,\n",
       " 'pedroj_': 695,\n",
       " 'pedaz': 694,\n",
       " 'ido': 476,\n",
       " 'frances': 409,\n",
       " 'voz': 991,\n",
       " 'consegu': 201,\n",
       " 'educ': 309,\n",
       " 'ric': 820,\n",
       " 'ave': 91,\n",
       " 'bomb': 112,\n",
       " 'rechaz': 791,\n",
       " 'señal': 863,\n",
       " 'confianz': 195,\n",
       " 'descombac': 266,\n",
       " 'notici descombac': 656,\n",
       " 'descombac dispon': 267,\n",
       " 'dialog': 276,\n",
       " 'mill': 610,\n",
       " 'enorm': 341,\n",
       " 'aplaus': 65,\n",
       " 'compromis': 191,\n",
       " 'tas': 901,\n",
       " 'iguald': 479,\n",
       " 'profesional': 754,\n",
       " 'joven': 521,\n",
       " 'quit': 781,\n",
       " 'san': 837,\n",
       " 'music': 637,\n",
       " 'terror': 912,\n",
       " 'aplaud': 64,\n",
       " 'intens': 499,\n",
       " 'la': 535,\n",
       " 'particip': 689,\n",
       " 'ampli': 53,\n",
       " 'sub impuest': 885,\n",
       " 'dij': 285,\n",
       " 'fraud': 411,\n",
       " 'numer': 658,\n",
       " 'tres': 932,\n",
       " 'canc': 137,\n",
       " 'continu': 211,\n",
       " 'preocup': 741,\n",
       " 'fgare': 394,\n",
       " 'demasi': 260,\n",
       " 'diez': 281,\n",
       " 'dud': 305,\n",
       " 'elconfidencial': 318,\n",
       " 'absolut': 10,\n",
       " 'peor': 701,\n",
       " 'exit': 378,\n",
       " 'acert': 15,\n",
       " 'content': 210,\n",
       " 'confirm': 196,\n",
       " 'abril': 9,\n",
       " 'pilarggranj': 714,\n",
       " 'abc': 2,\n",
       " 'aquell': 71,\n",
       " 'movil': 625,\n",
       " 'web': 994,\n",
       " 'monclo': 622,\n",
       " 'guind': 450,\n",
       " 'botell': 115,\n",
       " 'frent': 412,\n",
       " 'cit': 173,\n",
       " 'integr': 497,\n",
       " 'intereconomi': 501,\n",
       " 'mit': 619,\n",
       " 'soray': 882,\n",
       " 'criteri': 227,\n",
       " 'dolor': 299,\n",
       " 'paz': 692,\n",
       " 'followercet': 402,\n",
       " 'gob': 432,\n",
       " 'decret': 251,\n",
       " 'activ': 19,\n",
       " 'injust': 494,\n",
       " 'fij': 396,\n",
       " 'mujer': 634,\n",
       " 'lanz': 538,\n",
       " 'facil': 382,\n",
       " 'apuest': 69,\n",
       " 'escrib': 354,\n",
       " 'hac años': 455,\n",
       " 'the': 913,\n",
       " 'sevillajordi': 862,\n",
       " 'medic': 593,\n",
       " 'viviend': 986,\n",
       " 'detall': 272,\n",
       " 'sant': 841,\n",
       " 'recesion': 790,\n",
       " 'montor': 624,\n",
       " 'intervencion': 505,\n",
       " 'andaluci': 57,\n",
       " 'acompañ': 17,\n",
       " 'cifr': 170,\n",
       " 'millon eur': 612,\n",
       " 'piens': 712,\n",
       " 'inocent': 495,\n",
       " 'servici public': 859,\n",
       " 'greci': 446,\n",
       " 'interior': 503,\n",
       " 'ondacero_': 669,\n",
       " 'polic': 723,\n",
       " 'alli': 46,\n",
       " 'director': 292,\n",
       " '_rubalcaba_': 0,\n",
       " 'valencian': 950,\n",
       " 'tampoc': 897,\n",
       " 'aguirr': 31,\n",
       " 'clas': 179,\n",
       " 'decid': 248,\n",
       " 'tb': 902,\n",
       " 'cerc': 161,\n",
       " 'acus': 23,\n",
       " 'juanma_moren': 523,\n",
       " 'ejecut': 312,\n",
       " 'culp': 234,\n",
       " 'ganador': 422,\n",
       " 'bell': 105,\n",
       " 'titul': 920,\n",
       " 'pued hac': 771,\n",
       " 'rtve': 826,\n",
       " 'reform laboral': 806,\n",
       " 'vert': 968,\n",
       " 'realid': 788,\n",
       " 'model': 620,\n",
       " 'alemani': 41,\n",
       " 'pued ser': 772,\n",
       " 'gestion': 430,\n",
       " 'prim riesg': 750,\n",
       " 'casc': 149,\n",
       " 'complet': 188,\n",
       " 'inclu': 487,\n",
       " 'junt andaluc': 531,\n",
       " 'provoc': 762,\n",
       " 'frag': 408,\n",
       " 'ep': 349,\n",
       " 'television': 907,\n",
       " 'corrupcion': 219,\n",
       " 'coch': 182,\n",
       " 'dedic': 252,\n",
       " 'plaz': 718,\n",
       " 'facebook': 381,\n",
       " 'mundial': 636,\n",
       " 'cadiz': 127,\n",
       " 'general': 427,\n",
       " 'estrategi': 364,\n",
       " 'tv_aldi': 936,\n",
       " 'griñan': 448,\n",
       " 'oportun': 672,\n",
       " 'sentenci': 855,\n",
       " 'elcambioandaluz': 316,\n",
       " 'elcambioandaluz link': 317,\n",
       " 'ceo': 160,\n",
       " 'noch followercet': 652,\n",
       " 'followercet link': 403,\n",
       " 'garzon': 424,\n",
       " 'nac': 638,\n",
       " 'suprem': 893,\n",
       " 'caf': 128,\n",
       " 'andaluz': 58,\n",
       " 'prision': 752,\n",
       " 'gratuit': 445,\n",
       " 'yeswespainisdifferent': 996,\n",
       " 'plant': 717,\n",
       " 'brav': 116,\n",
       " 'messi': 602,\n",
       " 'audienci': 85,\n",
       " 'air': 35,\n",
       " 'incendi': 486,\n",
       " 'er': 351,\n",
       " 'mantien': 576,\n",
       " 'huelg general': 472,\n",
       " 'griñ': 447,\n",
       " 'congresopso': 199,\n",
       " 'esperanzaon': 363,\n",
       " 'athletic': 84,\n",
       " 'congresopp': 198,\n",
       " 'votapp': 989,\n",
       " 'amnist': 51}"
      ]
     },
     "execution_count": 6,
     "metadata": {},
     "output_type": "execute_result"
    }
   ],
   "source": [
    "vocabulary = pipeline.named_steps['vect'].vocabulary_\n",
    "vocabulary"
   ]
  },
  {
   "attachments": {},
   "cell_type": "markdown",
   "metadata": {},
   "source": [
    "# Database"
   ]
  },
  {
   "attachments": {},
   "cell_type": "markdown",
   "metadata": {},
   "source": [
    "### Queries"
   ]
  },
  {
   "cell_type": "code",
   "execution_count": 7,
   "metadata": {},
   "outputs": [],
   "source": [
    "create_database = \"\"\"\n",
    "    CREATE DATABASE IF NOT EXISTS db_prueba_tecnica\n",
    "\"\"\"\n",
    "\n",
    "use_database = \"\"\"\n",
    "    USE db_prueba_tecnica\n",
    "\"\"\"\n",
    "\n",
    "create_usuarios_table = \"\"\"\n",
    "    CREATE TABLE IF NOT EXISTS usuarios (\n",
    "        id BIGINT PRIMARY KEY,\n",
    "        name VARCHAR(255),\n",
    "        username VARCHAR(255)\n",
    "    )\n",
    "\"\"\"\n",
    "\n",
    "create_tweets_table = \"\"\"\n",
    "    CREATE TABLE IF NOT EXISTS tweets (\n",
    "        id BIGINT PRIMARY KEY,\n",
    "        content VARCHAR(255),\n",
    "        date VARCHAR(50),\n",
    "        lang VARCHAR(10),\n",
    "        author_id BIGINT,\n",
    "        retweet_count INT,\n",
    "        reply_count INT,\n",
    "        like_count INT,\n",
    "        quote_count INT,\n",
    "        FOREIGN KEY (author_id) REFERENCES usuarios(id)\n",
    "    )\n",
    "\"\"\"\n",
    "\n",
    "insert_usuarios = \"\"\"\n",
    "    INSERT INTO usuarios (id, name, username) \n",
    "    VALUES (%s, %s, %s) \n",
    "    ON DUPLICATE KEY UPDATE name=%s, username=%s\n",
    "\"\"\"\n",
    "\n",
    "insert_tweets = \"\"\"\n",
    "    INSERT INTO tweets (\n",
    "        id,\n",
    "        content,\n",
    "        date,\n",
    "        lang,\n",
    "        author_id,\n",
    "        retweet_count,\n",
    "        reply_count,\n",
    "        like_count,\n",
    "        quote_count\n",
    "    ) VALUES (%s, %s, %s, %s, %s, %s, %s, %s, %s)\n",
    "    ON DUPLICATE KEY UPDATE \n",
    "        retweet_count=%s,\n",
    "        reply_count=%s,\n",
    "        like_count=%s,\n",
    "        quote_count=%s\n",
    "\"\"\"\n",
    "\n",
    "select_tweets = \"\"\"\n",
    "    SELECT t.*, u.name AS author_name, u.username AS author_username\n",
    "    FROM tweets t\n",
    "    JOIN usuarios u ON t.author_id = u.id\n",
    "\"\"\""
   ]
  },
  {
   "attachments": {},
   "cell_type": "markdown",
   "metadata": {},
   "source": [
    "### Connection"
   ]
  },
  {
   "cell_type": "code",
   "execution_count": 8,
   "metadata": {},
   "outputs": [],
   "source": [
    "connection = pymysql.connect(\n",
    "    host=os.getenv('DB_HOST'),\n",
    "    user=os.getenv('DB_USERNAME'),\n",
    "    password=os.getenv('DB_PASSWORD'),\n",
    "    cursorclass=pymysql.cursors.DictCursor)\n",
    "\n",
    "cursor = connection.cursor()"
   ]
  },
  {
   "attachments": {},
   "cell_type": "markdown",
   "metadata": {},
   "source": [
    "### Set Up"
   ]
  },
  {
   "cell_type": "code",
   "execution_count": 9,
   "metadata": {},
   "outputs": [
    {
     "data": {
      "text/plain": [
       "0"
      ]
     },
     "execution_count": 9,
     "metadata": {},
     "output_type": "execute_result"
    }
   ],
   "source": [
    "cursor.execute(create_database)\n",
    "cursor.execute(use_database)\n",
    "cursor.execute(create_usuarios_table)\n",
    "cursor.execute(create_tweets_table)"
   ]
  },
  {
   "attachments": {},
   "cell_type": "markdown",
   "metadata": {},
   "source": [
    "# Getting the Tweets"
   ]
  },
  {
   "cell_type": "code",
   "execution_count": 10,
   "metadata": {},
   "outputs": [],
   "source": [
    "query = '(@TheBridge_Tech) until:2023-03-07 since:2022-11-21'"
   ]
  },
  {
   "cell_type": "code",
   "execution_count": 11,
   "metadata": {},
   "outputs": [],
   "source": [
    "for tweet in twitter.TwitterSearchScraper(query).get_items():\n",
    "    cursor.execute(insert_usuarios, (\n",
    "        tweet.user.id,\n",
    "        tweet.user.displayname,\n",
    "        tweet.user.username,\n",
    "        tweet.user.displayname,\n",
    "        tweet.user.username\n",
    "    ))\n",
    "\n",
    "    cursor.execute(insert_tweets, (\n",
    "        tweet.id,\n",
    "        tweet.rawContent,\n",
    "        tweet.date,\n",
    "        tweet.lang,\n",
    "        tweet.user.id,\n",
    "        tweet.retweetCount,\n",
    "        tweet.replyCount,\n",
    "        tweet.likeCount,\n",
    "        tweet.quoteCount,\n",
    "        tweet.retweetCount,\n",
    "        tweet.replyCount,\n",
    "        tweet.likeCount,\n",
    "        tweet.quoteCount\n",
    "    ))"
   ]
  },
  {
   "cell_type": "code",
   "execution_count": 12,
   "metadata": {},
   "outputs": [],
   "source": [
    "cursor.execute(select_tweets)\n",
    "tweets = cursor.fetchall()\n",
    "connection.close()\n",
    "\n",
    "tweets = pd.DataFrame(tweets)"
   ]
  },
  {
   "attachments": {},
   "cell_type": "markdown",
   "metadata": {},
   "source": [
    "# Data Processing"
   ]
  },
  {
   "attachments": {},
   "cell_type": "markdown",
   "metadata": {},
   "source": [
    "### Transform emojis"
   ]
  },
  {
   "cell_type": "code",
   "execution_count": 13,
   "metadata": {},
   "outputs": [],
   "source": [
    "tweets['content_proc'] = tweets['content'].apply(lambda content: emoji.demojize(content, delimiters=(' ', ' '), language='es'))"
   ]
  },
  {
   "attachments": {},
   "cell_type": "markdown",
   "metadata": {},
   "source": [
    "### Remove URLs"
   ]
  },
  {
   "cell_type": "code",
   "execution_count": 14,
   "metadata": {},
   "outputs": [],
   "source": [
    "tweets['content_proc'] = tweets['content_proc'].apply(lambda content: re.sub(\n",
    "    r'((http|https)\\:\\/\\/)?[a-zA-Z0-9\\.\\/\\?\\:@\\-_=#]+\\.([a-zA-Z]){2,6}([a-zA-Z0-9\\.\\&\\/\\?\\:@\\-_=#])*',\n",
    "    '',\n",
    "    content))"
   ]
  },
  {
   "attachments": {},
   "cell_type": "markdown",
   "metadata": {},
   "source": [
    "### Remove Mentions"
   ]
  },
  {
   "cell_type": "code",
   "execution_count": 15,
   "metadata": {},
   "outputs": [],
   "source": [
    "tweets['content_proc'] = tweets['content_proc'].apply(lambda content: re.sub(r'@(\\w+)', '', content))"
   ]
  },
  {
   "attachments": {},
   "cell_type": "markdown",
   "metadata": {},
   "source": [
    "### Remove Symbols"
   ]
  },
  {
   "cell_type": "code",
   "execution_count": 16,
   "metadata": {},
   "outputs": [],
   "source": [
    "tweets['content_proc'] = tweets['content_proc'].apply(lambda content: re.sub(r'[^\\w\\s]', '', content))\n",
    "tweets['content_proc'] = tweets['content_proc'].apply(lambda content: re.sub(r'#(\\w+)', r'\\1', content))\n",
    "tweets['content_proc'] = tweets['content_proc'].apply(lambda content: re.sub(r'\\s+', ' ', content).strip())\n",
    "tweets['content_proc'] = tweets['content_proc'].str.replace('_', ' ')"
   ]
  },
  {
   "attachments": {},
   "cell_type": "markdown",
   "metadata": {},
   "source": [
    "### Translation"
   ]
  },
  {
   "cell_type": "code",
   "execution_count": 17,
   "metadata": {},
   "outputs": [],
   "source": [
    "lang_mask = ~tweets['lang'].isin(['es', 'und'])\n",
    "\n",
    "def translate_tweet(content):\n",
    "    translator = Translator()\n",
    "\n",
    "    if not content.strip(): return ''\n",
    "\n",
    "    return translator.translate(content, dest='es').text\n",
    "\n",
    "tweets.loc[lang_mask, 'content_proc'] = tweets.loc[lang_mask, 'content_proc'].apply(translate_tweet)"
   ]
  },
  {
   "attachments": {},
   "cell_type": "markdown",
   "metadata": {},
   "source": [
    "### Stemmatization"
   ]
  },
  {
   "cell_type": "code",
   "execution_count": 18,
   "metadata": {},
   "outputs": [],
   "source": [
    "stemmer = SnowballStemmer('spanish')\n",
    "\n",
    "def stem(content):\n",
    "    stems = []\n",
    "\n",
    "    for word in content.split():\n",
    "        stems.append(stemmer.stem(word))\n",
    "\n",
    "    return ' '.join(stems)\n",
    "\n",
    "tweets['content_proc'] = tweets['content_proc'].apply(stem)"
   ]
  },
  {
   "attachments": {},
   "cell_type": "markdown",
   "metadata": {},
   "source": [
    "### Remove Stopwords"
   ]
  },
  {
   "cell_type": "code",
   "execution_count": 19,
   "metadata": {},
   "outputs": [],
   "source": [
    "stop_words = set(stopwords.words('spanish'))\n",
    "\n",
    "def remove_stopwords(content):\n",
    "    tokens = content.split()\n",
    "    tokens_without_stopwords = [token for token in tokens if token.lower() not in stop_words]\n",
    "\n",
    "    return ' '.join(tokens_without_stopwords)\n",
    "\n",
    "tweets['content_proc'] = tweets['content_proc'].apply(remove_stopwords)"
   ]
  },
  {
   "attachments": {},
   "cell_type": "markdown",
   "metadata": {},
   "source": [
    "# Analysis"
   ]
  },
  {
   "attachments": {},
   "cell_type": "markdown",
   "metadata": {},
   "source": [
    "### Most Relevant Tweet"
   ]
  },
  {
   "cell_type": "code",
   "execution_count": 20,
   "metadata": {},
   "outputs": [
    {
     "data": {
      "text/html": [
       "<div>\n",
       "<style scoped>\n",
       "    .dataframe tbody tr th:only-of-type {\n",
       "        vertical-align: middle;\n",
       "    }\n",
       "\n",
       "    .dataframe tbody tr th {\n",
       "        vertical-align: top;\n",
       "    }\n",
       "\n",
       "    .dataframe thead th {\n",
       "        text-align: right;\n",
       "    }\n",
       "</style>\n",
       "<table border=\"1\" class=\"dataframe\">\n",
       "  <thead>\n",
       "    <tr style=\"text-align: right;\">\n",
       "      <th></th>\n",
       "      <th>id</th>\n",
       "      <th>content</th>\n",
       "      <th>date</th>\n",
       "      <th>lang</th>\n",
       "      <th>author_id</th>\n",
       "      <th>retweet_count</th>\n",
       "      <th>reply_count</th>\n",
       "      <th>like_count</th>\n",
       "      <th>quote_count</th>\n",
       "      <th>author_name</th>\n",
       "      <th>author_username</th>\n",
       "      <th>content_proc</th>\n",
       "      <th>total_engagement</th>\n",
       "    </tr>\n",
       "  </thead>\n",
       "  <tbody>\n",
       "    <tr>\n",
       "      <th>10</th>\n",
       "      <td>1614612463361695747</td>\n",
       "      <td>Advanced #Cynefin, Estuarine mapping &amp;amp; EUF...</td>\n",
       "      <td>2023-01-15 13:16:23</td>\n",
       "      <td>es</td>\n",
       "      <td>41545659</td>\n",
       "      <td>51</td>\n",
       "      <td>7</td>\n",
       "      <td>326</td>\n",
       "      <td>4</td>\n",
       "      <td>Mario Lopez de Avila</td>\n",
       "      <td>nodosenlared</td>\n",
       "      <td>advanc cynefin estuarin mapping amp eufg maste...</td>\n",
       "      <td>388</td>\n",
       "    </tr>\n",
       "  </tbody>\n",
       "</table>\n",
       "</div>"
      ],
      "text/plain": [
       "                     id                                            content  \\\n",
       "10  1614612463361695747  Advanced #Cynefin, Estuarine mapping &amp; EUF...   \n",
       "\n",
       "                   date lang  author_id  retweet_count  reply_count  \\\n",
       "10  2023-01-15 13:16:23   es   41545659             51            7   \n",
       "\n",
       "    like_count  quote_count           author_name author_username  \\\n",
       "10         326            4  Mario Lopez de Avila    nodosenlared   \n",
       "\n",
       "                                         content_proc  total_engagement  \n",
       "10  advanc cynefin estuarin mapping amp eufg maste...               388  "
      ]
     },
     "execution_count": 20,
     "metadata": {},
     "output_type": "execute_result"
    }
   ],
   "source": [
    "tweets['total_engagement'] = tweets['retweet_count'] + tweets['reply_count'] + tweets['like_count'] + tweets['quote_count']\n",
    "top_engagement = tweets.sort_values('total_engagement', ascending=False)\n",
    "\n",
    "top_engagement.head(1)"
   ]
  },
  {
   "cell_type": "code",
   "execution_count": 21,
   "metadata": {},
   "outputs": [
    {
     "data": {
      "image/png": "[encoded data removed]",
      "text/plain": [
       "<Figure size 640x480 with 1 Axes>"
      ]
     },
     "metadata": {},
     "output_type": "display_data"
    }
   ],
   "source": [
    "sns.countplot(x='total_engagement', data=top_engagement)\n",
    "plt.ylabel('Sum Public Metrics');"
   ]
  },
  {
   "attachments": {},
   "cell_type": "markdown",
   "metadata": {},
   "source": [
    "### Top User"
   ]
  },
  {
   "cell_type": "code",
   "execution_count": 22,
   "metadata": {},
   "outputs": [],
   "source": [
    "top_users = tweets['author_username'].value_counts()\n",
    "\n",
    "top_users = top_users.head(5)"
   ]
  },
  {
   "cell_type": "code",
   "execution_count": 23,
   "metadata": {},
   "outputs": [
    {
     "data": {
      "image/png": "[encoded data removed]",
      "text/plain": [
       "<Figure size 640x480 with 1 Axes>"
      ]
     },
     "metadata": {},
     "output_type": "display_data"
    }
   ],
   "source": [
    "sns.barplot(x=top_users.index, y=top_users.values)\n",
    "plt.ylabel('Mentions');"
   ]
  },
  {
   "attachments": {},
   "cell_type": "markdown",
   "metadata": {},
   "source": [
    "### Most Active Month"
   ]
  },
  {
   "cell_type": "code",
   "execution_count": 24,
   "metadata": {},
   "outputs": [],
   "source": [
    "tweets['date'] = pd.to_datetime(tweets['date'])\n",
    "tweets['month'] = tweets['date'].dt.month"
   ]
  },
  {
   "cell_type": "code",
   "execution_count": 25,
   "metadata": {},
   "outputs": [
    {
     "data": {
      "text/plain": [
       "1    67\n",
       "Name: month, dtype: int64"
      ]
     },
     "execution_count": 25,
     "metadata": {},
     "output_type": "execute_result"
    }
   ],
   "source": [
    "monthly_tweet_count = tweets['month'].value_counts()\n",
    "\n",
    "monthly_tweet_count.head(1)"
   ]
  },
  {
   "cell_type": "code",
   "execution_count": 26,
   "metadata": {},
   "outputs": [
    {
     "data": {
      "image/png": "[encoded data removed]",
      "text/plain": [
       "<Figure size 640x480 with 1 Axes>"
      ]
     },
     "metadata": {},
     "output_type": "display_data"
    }
   ],
   "source": [
    "meses = ['Noviembre', 'Diciembre', 'Enero', 'Febrero', 'Marzo']\n",
    "monthly_tweet_count.index = monthly_tweet_count.index.map({11: 'Noviembre', 12: 'Diciembre', 1: 'Enero', 2: 'Febrero', 3: 'Marzo'})\n",
    "\n",
    "serie = pd.Series(monthly_tweet_count, index=meses)\n",
    "\n",
    "serie_ordenada = serie.reindex(meses)\n",
    "\n",
    "serie_ordenada.plot(kind='line')\n",
    "\n",
    "plt.ylabel('Tweet Count');"
   ]
  },
  {
   "attachments": {},
   "cell_type": "markdown",
   "metadata": {},
   "source": [
    "### Most Frequent Words"
   ]
  },
  {
   "cell_type": "code",
   "execution_count": 27,
   "metadata": {},
   "outputs": [
    {
     "data": {
      "text/plain": [
       "[('man', 70),\n",
       " ('derech', 52),\n",
       " ('digital', 49),\n",
       " ('par', 45),\n",
       " ('dors', 35),\n",
       " ('indic', 35),\n",
       " ('bootcamps', 33),\n",
       " ('nuestr', 33),\n",
       " ('tecnolog', 33),\n",
       " ('bbkbootcamps', 32)]"
      ]
     },
     "execution_count": 27,
     "metadata": {},
     "output_type": "execute_result"
    }
   ],
   "source": [
    "words = nltk.word_tokenize(' '.join(tweets['content_proc']))\n",
    "\n",
    "word_count = Counter(words)\n",
    "\n",
    "top_words = word_count.most_common(10)\n",
    "\n",
    "top_words"
   ]
  },
  {
   "cell_type": "code",
   "execution_count": 28,
   "metadata": {},
   "outputs": [
    {
     "data": {
      "image/png": "[encoded data removed]",
      "text/plain": [
       "<Figure size 640x480 with 1 Axes>"
      ]
     },
     "metadata": {},
     "output_type": "display_data"
    }
   ],
   "source": [
    "df = pd.DataFrame(top_words, columns=['Palabra', 'Frecuencia'])\n",
    "\n",
    "sns.barplot(x='Frecuencia', y='Palabra', data=df);"
   ]
  },
  {
   "attachments": {},
   "cell_type": "markdown",
   "metadata": {},
   "source": [
    "### Public Metrics Correlation"
   ]
  },
  {
   "cell_type": "code",
   "execution_count": 29,
   "metadata": {},
   "outputs": [
    {
     "name": "stdout",
     "output_type": "stream",
     "text": [
      "               retweet_count  reply_count  like_count  quote_count\n",
      "retweet_count       1.000000     0.667012    0.949507     0.614318\n",
      "reply_count         0.667012     1.000000    0.726024     0.457949\n",
      "like_count          0.949507     0.726024    1.000000     0.618379\n",
      "quote_count         0.614318     0.457949    0.618379     1.000000\n"
     ]
    }
   ],
   "source": [
    "corr = tweets[['retweet_count', 'reply_count', 'like_count', 'quote_count']].corr()\n",
    "\n",
    "print(corr) # Like - Retweet"
   ]
  },
  {
   "cell_type": "code",
   "execution_count": 30,
   "metadata": {},
   "outputs": [
    {
     "data": {
      "text/plain": [
       "<Axes: >"
      ]
     },
     "execution_count": 30,
     "metadata": {},
     "output_type": "execute_result"
    },
    {
     "data": {
      "image/png": "[encoded data removed]",
      "text/plain": [
       "<Figure size 640x480 with 2 Axes>"
      ]
     },
     "metadata": {},
     "output_type": "display_data"
    }
   ],
   "source": [
    "sns.heatmap(corr, annot=True, cmap='coolwarm')"
   ]
  },
  {
   "attachments": {},
   "cell_type": "markdown",
   "metadata": {},
   "source": [
    "# Predict"
   ]
  },
  {
   "attachments": {},
   "cell_type": "markdown",
   "metadata": {},
   "source": [
    "### Predictions"
   ]
  },
  {
   "cell_type": "code",
   "execution_count": 31,
   "metadata": {},
   "outputs": [
    {
     "data": {
      "text/plain": [
       "array([1, 0, 1, 0, 0, 0, 1, 1, 0, 1, 0, 0, 0, 1, 0, 0, 0, 0, 0, 1, 0, 0,\n",
       "       1, 1, 0, 1, 0, 0, 1, 1, 1, 0, 0, 1, 0, 0, 1, 0, 0, 1, 0, 0, 1, 0,\n",
       "       0, 0, 0, 0, 0, 1, 0, 1, 1, 0, 0, 1, 1, 1, 0, 0, 0, 0, 0, 0, 0, 1,\n",
       "       0, 1, 0, 1, 0, 0, 0, 0, 0, 0, 0, 0, 0, 0, 1, 0, 1, 1, 0, 1, 1, 1,\n",
       "       1, 1, 0, 1, 0, 0, 0, 0, 0, 1, 1, 0, 1, 0, 1, 0, 0, 0, 0, 0, 1, 1,\n",
       "       1, 0, 0, 0, 0, 0, 1, 1, 0, 1, 1, 0, 1, 0, 1, 0, 1, 0, 1, 0, 1, 0,\n",
       "       1, 0, 1, 1, 1, 1, 1, 1, 1, 0, 0, 1, 0, 0, 0, 1, 1, 0, 1, 1, 1, 0,\n",
       "       1, 0, 0, 1, 1, 0, 0, 0, 0, 1, 0, 0, 0, 0, 1, 0, 0, 0, 0, 0, 0],\n",
       "      dtype=int64)"
      ]
     },
     "execution_count": 31,
     "metadata": {},
     "output_type": "execute_result"
    }
   ],
   "source": [
    "predictions = pipeline.predict(tweets['content_proc'])\n",
    "\n",
    "tweets['pred'] = predictions\n",
    "# tweets['pred'] = tweets['pred'].map({0: 'pos', 1: 'neg'})\n",
    "\n",
    "predictions # 0: Pos, 1: Neg"
   ]
  },
  {
   "cell_type": "code",
   "execution_count": 32,
   "metadata": {},
   "outputs": [
    {
     "data": {
      "image/png": "[encoded data removed]",
      "text/plain": [
       "<Figure size 640x480 with 1 Axes>"
      ]
     },
     "metadata": {},
     "output_type": "display_data"
    }
   ],
   "source": [
    "ax = sns.countplot(x='pred', data=tweets)\n",
    "ax.set_xticklabels(['Pos', 'Neg'])\n",
    "\n",
    "plt.xlabel('Predicciones');"
   ]
  },
  {
   "attachments": {},
   "cell_type": "markdown",
   "metadata": {},
   "source": [
    "### Most Important Features"
   ]
  },
  {
   "cell_type": "code",
   "execution_count": 33,
   "metadata": {},
   "outputs": [
    {
     "data": {
      "image/png": "[encoded data removed]",
      "text/plain": [
       "<Figure size 1500x500 with 2 Axes>"
      ]
     },
     "metadata": {},
     "output_type": "display_data"
    }
   ],
   "source": [
    "features = pipeline.named_steps['vect'].get_feature_names_out()\n",
    "coeficients = pipeline.named_steps['cls'].coef_[0]\n",
    "\n",
    "feature_coef = list(zip(features, coeficients))\n",
    "\n",
    "feature_coef.sort(key=lambda x: abs(x[1]), reverse=True)\n",
    "\n",
    "coef_pos = [x for x in feature_coef if x[1] < 0][:20]\n",
    "coef_neg = [x for x in feature_coef if x[1] > 0][:20]\n",
    "\n",
    "coef_pos.sort(key=lambda x: abs(x[1]), reverse=True)\n",
    "coef_neg.sort(key=lambda x: abs(x[1]), reverse=True)\n",
    "\n",
    "fig, axs = plt.subplots(1, 2, figsize=(15, 5))\n",
    "\n",
    "sns.barplot(x=[c for (f, c) in coef_pos], y=[f for (f, c) in coef_pos], ax=axs[0], color='green')\n",
    "axs[0].set_title('Pos')\n",
    "\n",
    "sns.barplot(x=[c for (f, c) in coef_neg], y=[f for (f, c) in coef_neg], ax=axs[1], color='red')\n",
    "axs[1].set_title('Neg')\n",
    "\n",
    "plt.show()"
   ]
  },
  {
   "attachments": {},
   "cell_type": "markdown",
   "metadata": {},
   "source": [
    "### Mejoras\n",
    "- Mejorar el preprocesamiento de los datos. Podrían añadirse técnicas de procesamiento, como eliminación de stopwords, stemming o lemmatization.\n",
    "- Utilizar modelos de deep learning con mayor rendimiento para este tipo de tarea, como lstm o transformer, diseñados para procesar información secuencial."
   ]
  },
  {
   "attachments": {},
   "cell_type": "markdown",
   "metadata": {},
   "source": [
    "### Otras oportunidades\n",
    "- El análisis de sentimientos en textos de cualquier otra índole.\n",
    "- Traducción automática de textos.\n",
    "- Generación de texto."
   ]
  },
  {
   "attachments": {},
   "cell_type": "markdown",
   "metadata": {},
   "source": [
    "### Corr"
   ]
  },
  {
   "cell_type": "code",
   "execution_count": 35,
   "metadata": {},
   "outputs": [
    {
     "data": {
      "image/png": "[encoded data removed]",
      "text/plain": [
       "<Figure size 640x480 with 2 Axes>"
      ]
     },
     "metadata": {},
     "output_type": "display_data"
    }
   ],
   "source": [
    "tweets['content_len'] = tweets['content'].apply(lambda content: len(content))\n",
    "\n",
    "corr_matrix = tweets[['total_engagement', 'pred', 'content_len']].corr()\n",
    "\n",
    "sns.heatmap(corr_matrix, annot=True, cmap='coolwarm');"
   ]
  }
 ],
 "metadata": {
  "kernelspec": {
   "display_name": "Python 3",
   "language": "python",
   "name": "python3"
  },
  "language_info": {
   "codemirror_mode": {
    "name": "ipython",
    "version": 3
   },
   "file_extension": ".py",
   "mimetype": "text/x-python",
   "name": "python",
   "nbconvert_exporter": "python",
   "pygments_lexer": "ipython3",
   "version": "3.8.16"
  },
  "orig_nbformat": 4
 },
 "nbformat": 4,
 "nbformat_minor": 2
}
